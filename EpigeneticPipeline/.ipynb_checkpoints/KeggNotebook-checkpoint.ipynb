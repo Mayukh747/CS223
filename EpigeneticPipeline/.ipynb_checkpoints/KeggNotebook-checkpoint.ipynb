{
 "cells": [
  {
   "cell_type": "code",
   "execution_count": 24,
   "outputs": [],
   "source": [
    "# Show plots as part of the notebook\n",
    "%matplotlib inline\n",
    "\n",
    "# Show images inline\n",
    "from IPython.display import Image\n",
    "\n",
    "# Standard library packages\n",
    "import io\n",
    "import os\n",
    "\n",
    "# Import Biopython modules to interact with KEGG\n",
    "from Bio import SeqIO\n",
    "from Bio.KEGG import REST\n",
    "from Bio.KEGG.KGML import KGML_parser\n",
    "from Bio.Graphics.KGML_vis import KGMLCanvas\n",
    "\n",
    "# Import Pandas, so we can use dataframes\n",
    "import pandas as pd"
   ],
   "metadata": {
    "collapsed": false,
    "ExecuteTime": {
     "end_time": "2024-11-26T23:36:46.004509Z",
     "start_time": "2024-11-26T23:36:43.886356Z"
    }
   },
   "id": "b718761dfaeb92eb"
  },
  {
   "cell_type": "code",
   "execution_count": 32,
   "outputs": [],
   "source": [
    "import requests\n",
    "import re\n",
    "\n",
    "def retrieve_genes_for_pathway(pathway: str) -> None:\n",
    "    '''use the link tool to get all genes of a certain pathway'''\n",
    "    resp = requests.get(\"https://rest.kegg.jp/link/hsa/\" + pathway)\n",
    "    split_text = re.split(r'[\\t\\n]', resp.text) #why is my list of odd length?\n",
    "    genes = []\n",
    "    for idx in range(1, len(split_text), 2):\n",
    "        genes.append(split_text[idx])\n",
    "    return genes\n",
    "    "
   ],
   "metadata": {
    "collapsed": false,
    "ExecuteTime": {
     "end_time": "2024-11-26T23:55:00.727421Z",
     "start_time": "2024-11-26T23:55:00.723804Z"
    }
   },
   "id": "3ecd289d0f618e61"
  },
  {
   "cell_type": "code",
   "execution_count": 39,
   "outputs": [],
   "source": [
    "gene_ids = retrieve_genes_for_pathway(\"hsa00010\")"
   ],
   "metadata": {
    "collapsed": false,
    "ExecuteTime": {
     "end_time": "2024-11-27T00:02:29.447541Z",
     "start_time": "2024-11-27T00:02:28.889534Z"
    }
   },
   "id": "46f9ee613be8ddbf"
  },
  {
   "cell_type": "code",
   "execution_count": null,
   "outputs": [],
   "source": [
    "def to_df(result):\n",
    "    return pd.read_table(io.StringIO(result), header=None)\n",
    "\n",
    "for id in gene_ids:\n",
    "    result = REST.kegg_list(id).read()\n",
    "    to_df(result)"
   ],
   "metadata": {
    "collapsed": false,
    "is_executing": true
   },
   "id": "f0e3434d348d58e8"
  },
  {
   "cell_type": "code",
   "execution_count": null,
   "outputs": [],
   "source": [
    "def to_df(result):\n",
    "    return pd.read_table(io.StringIO(result), header=None)\n",
    "# Get all entries in the PATHWAY database as a dataframe\n",
    "result = REST.kegg_list(\"hsa:10327\").read()\n",
    "to_df(result)"
   ],
   "metadata": {
    "collapsed": false
   },
   "id": "1526e8bd4e482331"
  },
  {
   "cell_type": "code",
   "execution_count": 37,
   "outputs": [
    {
     "name": "stdout",
     "output_type": "stream",
     "text": [
      "ENTRY       10327             CDS       T01001\n",
      "SYMBOL      AKR1A1, ALDR1, ALR, ARM, DD3, HEL-S-6\n",
      "NAME        (RefSeq) aldo-keto reductase family 1 member A1\n",
      "ORTHOLOGY   K00002  alcohol dehydrogenase (NADP+) [EC:1.1.1.2]\n",
      "ORGANISM    hsa  Homo sapiens (human)\n",
      "PATHWAY     hsa00010  Glycolysis / Gluconeogenesis\n",
      "            hsa00040  Pentose and glucuronate interconversions\n",
      "            hsa00053  Ascorbate and aldarate metabolism\n",
      "            hsa00561  Glycerolipid metabolism\n",
      "            hsa00620  Pyruvate metabolism\n",
      "            hsa01100  Metabolic pathways\n",
      "            hsa01240  Biosynthesis of cofactors\n",
      "            hsa05208  Chemical carcinogenesis - reactive oxygen species\n",
      "MODULE      hsa_M00014  Glucuronate pathway (uronate pathway)\n",
      "NETWORK     nt06226  KEAP1-NRF2 signaling (cancer)\n",
      "            nt06251  CYP-mediated ROS formation (cancer)\n",
      "  ELEMENT   N01401  Benzo[a]pyrenre to CYP-mediated metabolism\n",
      "            N01413  Metals to KEAP1-NRF2 signalig pathway\n",
      "BRITE       KEGG Orthology (KO) [BR:hsa00001]\n",
      "             09100 Metabolism\n",
      "              09101 Carbohydrate metabolism\n",
      "               00010 Glycolysis / Gluconeogenesis\n",
      "                10327 (AKR1A1)\n",
      "               00040 Pentose and glucuronate interconversions\n",
      "                10327 (AKR1A1)\n",
      "               00053 Ascorbate and aldarate metabolism\n",
      "                10327 (AKR1A1)\n",
      "               00620 Pyruvate metabolism\n",
      "                10327 (AKR1A1)\n",
      "              09103 Lipid metabolism\n",
      "               00561 Glycerolipid metabolism\n",
      "                10327 (AKR1A1)\n",
      "             09160 Human Diseases\n",
      "              09161 Cancer: overview\n",
      "               05208 Chemical carcinogenesis - reactive oxygen species\n",
      "                10327 (AKR1A1)\n",
      "             09180 Brite Hierarchies\n",
      "              09183 Protein families: signaling and cellular processes\n",
      "               04147 Exosome [BR:hsa04147]\n",
      "                10327 (AKR1A1)\n",
      "            Enzymes [BR:hsa01000]\n",
      "             1. Oxidoreductases\n",
      "              1.1  Acting on the CH-OH group of donors\n",
      "               1.1.1  With NAD+ or NADP+ as acceptor\n",
      "                1.1.1.2  alcohol dehydrogenase (NADP+)\n",
      "                 10327 (AKR1A1)\n",
      "            Exosome [BR:hsa04147]\n",
      "             Exosomal proteins\n",
      "              Exosomal proteins of other body fluids (saliva and urine)\n",
      "               10327 (AKR1A1)\n",
      "POSITION    1:45550826..45570049\n",
      "MOTIF       Pfam: Aldo_ket_red\n",
      "DBLINKS     NCBI-GeneID: 10327\n",
      "            NCBI-ProteinID: NP_001189342\n",
      "            OMIM: 103830\n",
      "            HGNC: 380\n",
      "            Ensembl: ENSG00000117448\n",
      "            UniProt: P14550 V9HWI0\n",
      "STRUCTURE   PDB\n",
      "AASEQ       325\n",
      "            MAASCVLLHTGQKMPLIGLGTWKSEPGQVKAAVKYALSVGYRHIDCAAIYGNEPEIGEAL\n",
      "            KEDVGPGKAVPREELFVTSKLWNTKHHPEDVEPALRKTLADLQLEYLDLYLMHWPYAFER\n",
      "            GDNPFPKNADGTICYDSTHYKETWKALEALVAKGLVQALGLSNFNSRQIDDILSVASVRP\n",
      "            AVLQVECHPYLAQNELIAHCQARGLEVTAYSPLGSSDRAWRDPDEPVLLEEPVVLALAEK\n",
      "            YGRSPAQILLRWQVQRKVICIPKSITPSRILQNIKVFDFTFSPEEMKQLNALNKNWRYIV\n",
      "            PMLTVDGKRVPRDAGHPLYPFNDPY\n",
      "NTSEQ       978\n",
      "            atggcggcttcctgtgttctactgcacactgggcagaagatgcctctgattggtctgggt\n",
      "            acctggaagagtgagcctggtcaggtaaaagcagctgttaagtatgcccttagcgtaggc\n",
      "            taccgccacattgattgtgctgctatctacggcaatgagcctgagattggggaggccctg\n",
      "            aaggaggacgtgggaccaggcaaggcggtgcctcgggaggagctgtttgtgacatccaag\n",
      "            ctgtggaacaccaagcaccaccccgaggatgtggagcctgccctccggaagactctggct\n",
      "            gacctccagctggagtatctggacctgtacctgatgcactggccttatgcctttgagcgg\n",
      "            ggagacaaccccttccccaagaatgctgatgggactatatgctacgactccacccactac\n",
      "            aaggagacttggaaggctctggaggcactggtggctaaggggctggtgcaggcgctgggc\n",
      "            ctgtccaacttcaacagtcggcagattgatgacatactcagtgtggcctccgtgcgtcca\n",
      "            gctgtcttgcaggtggaatgccacccatacttggctcaaaatgagctaattgcccactgc\n",
      "            caagcacgtggcctggaggtaactgcttatagccctttgggctcctctgatcgtgcatgg\n",
      "            cgtgatcctgatgagcctgtcctgctggaggaaccagtagtcctggcattggctgaaaag\n",
      "            tatggccgatctccagctcagatcttgctcaggtggcaggtccagcggaaagtgatctgc\n",
      "            atccccaaaagtatcactccttctcgaatccttcagaacatcaaggtgtttgacttcacc\n",
      "            tttagcccagaagagatgaagcagctaaatgccctgaacaaaaattggagatatattgtg\n",
      "            cctatgcttacggtggatgggaagagagtcccaagggatgcagggcatcctctgtacccc\n",
      "            tttaatgacccgtactga\n",
      "///\n"
     ]
    }
   ],
   "source": [
    "\n",
    "result = REST.kegg_get(\"hsa:10327\").read()\n",
    "print(result)\n"
   ],
   "metadata": {
    "collapsed": false,
    "ExecuteTime": {
     "end_time": "2024-11-26T23:57:59.976006Z",
     "start_time": "2024-11-26T23:57:59.356230Z"
    }
   },
   "id": "c415ca1017612167"
  },
  {
   "cell_type": "code",
   "execution_count": null,
   "outputs": [],
   "source": [],
   "metadata": {
    "collapsed": false
   },
   "id": "9e35eb28822e0c73"
  }
 ],
 "metadata": {
  "kernelspec": {
   "display_name": "Python 3",
   "language": "python",
   "name": "python3"
  },
  "language_info": {
   "codemirror_mode": {
    "name": "ipython",
    "version": 2
   },
   "file_extension": ".py",
   "mimetype": "text/x-python",
   "name": "python",
   "nbconvert_exporter": "python",
   "pygments_lexer": "ipython2",
   "version": "2.7.6"
  }
 },
 "nbformat": 4,
 "nbformat_minor": 5
}
