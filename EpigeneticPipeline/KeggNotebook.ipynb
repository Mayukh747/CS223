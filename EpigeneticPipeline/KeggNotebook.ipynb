{
 "cells": [
  {
   "cell_type": "code",
   "execution_count": 1,
   "outputs": [],
   "source": [
    "# Show plots as part of the notebook\n",
    "%matplotlib inline\n",
    "\n",
    "# Show images inline\n",
    "from IPython.display import Image\n",
    "\n",
    "# Standard library packages\n",
    "import io\n",
    "import os\n",
    "\n",
    "# Import Biopython modules to interact with KEGG\n",
    "from Bio import SeqIO\n",
    "from Bio.KEGG import REST\n",
    "from Bio.KEGG.KGML import KGML_parser\n",
    "from Bio.Graphics.KGML_vis import KGMLCanvas\n",
    "\n",
    "# Import Pandas, so we can use dataframes\n",
    "import pandas as pd"
   ],
   "metadata": {
    "collapsed": false,
    "ExecuteTime": {
     "end_time": "2024-11-27T00:03:32.782068Z",
     "start_time": "2024-11-27T00:03:32.140164Z"
    }
   },
   "id": "b718761dfaeb92eb"
  },
  {
   "cell_type": "code",
   "execution_count": 2,
   "outputs": [
    {
     "name": "stderr",
     "output_type": "stream",
     "text": [
      "/Users/mayukh/PycharmProjects/CS223/venv/lib/python3.9/site-packages/urllib3/__init__.py:35: NotOpenSSLWarning: urllib3 v2 only supports OpenSSL 1.1.1+, currently the 'ssl' module is compiled with 'LibreSSL 2.8.3'. See: https://github.com/urllib3/urllib3/issues/3020\n",
      "  warnings.warn(\n"
     ]
    }
   ],
   "source": [
    "import requests\n",
    "import re\n",
    "\n",
    "def retrieve_genes_for_pathway(pathway: str) -> None:\n",
    "    '''use the link tool to get all genes of a certain pathway'''\n",
    "    resp = requests.get(\"https://rest.kegg.jp/link/hsa/\" + pathway)\n",
    "    split_text = re.split(r'[\\t\\n]', resp.text) #why is my list of odd length?\n",
    "    genes = []\n",
    "    for idx in range(1, len(split_text), 2):\n",
    "        genes.append(split_text[idx])\n",
    "    return genes\n",
    "    "
   ],
   "metadata": {
    "collapsed": false,
    "ExecuteTime": {
     "end_time": "2024-11-27T00:03:32.824672Z",
     "start_time": "2024-11-27T00:03:32.784099Z"
    }
   },
   "id": "3ecd289d0f618e61"
  },
  {
   "cell_type": "code",
   "execution_count": 3,
   "outputs": [],
   "source": [
    "gene_ids = retrieve_genes_for_pathway(\"hsa00010\")"
   ],
   "metadata": {
    "collapsed": false,
    "ExecuteTime": {
     "end_time": "2024-11-27T00:03:36.523331Z",
     "start_time": "2024-11-27T00:03:35.858018Z"
    }
   },
   "id": "46f9ee613be8ddbf"
  },
  {
   "cell_type": "code",
   "execution_count": 5,
   "outputs": [
    {
     "data": {
      "text/plain": "['hsa:10327\\tAKR1A1',\n ' ALDR1',\n ' ALR',\n ' ARM',\n ' DD3',\n ' HEL-S-6',\n 'hsa:124\\tADH1A',\n ' ADH1',\n 'hsa:125\\tADH1B',\n ' ADH2',\n ' HEL-S-117',\n 'hsa:126\\tADH1C',\n ' ADH3',\n 'hsa:127\\tADH4',\n ' ADH-2',\n ' HEL-S-4',\n 'hsa:128\\tADH5',\n ' ADH-3',\n ' ADHX',\n ' AMEDS',\n ' BMFS7',\n ' FALDH',\n ' FDH',\n ' GSH-FDH',\n ' GSNOR',\n ' HEL-S-60p',\n 'hsa:130\\tADH6',\n ' ADH-5',\n 'hsa:130589\\tGALM',\n ' BLOCK25',\n ' GALAC4',\n ' GLAT',\n ' HEL-S-63p',\n ' IBD1',\n 'hsa:131\\tADH7',\n ' ADH4',\n 'hsa:160287\\tLDHAL6A',\n ' LDH6A',\n 'hsa:1737\\tDLAT',\n ' DLTA',\n ' E2',\n ' PBC',\n ' PDC-E2',\n ' PDCE2',\n 'hsa:1738\\tDLD',\n ' DLDD',\n ' DLDH',\n ' E3',\n ' GCSL',\n ' LAD',\n ' OGDC-E3',\n ' PHE3',\n 'hsa:2023\\tENO1',\n ' ENO1-IT1',\n ' ENO1L1',\n ' HEL-S-17',\n ' MPB1',\n ' NNE',\n ' PPH',\n 'hsa:2026\\tENO2',\n ' HEL-S-279',\n ' NSE',\n 'hsa:2027\\tENO3',\n ' GSD13',\n ' MSE',\n 'hsa:217\\tALDH2',\n ' ALDH-E2',\n ' ALDHI',\n ' ALDM',\n 'hsa:218\\tALDH3A1',\n ' ALDH3',\n ' ALDHIII',\n 'hsa:219\\tALDH1B1',\n ' ALDH5',\n ' ALDHX',\n 'hsa:2203\\tFBP1',\n ' FBP',\n 'hsa:221\\tALDH3B1',\n ' ALDH4',\n ' ALDH7',\n 'hsa:222\\tALDH3B2',\n ' ALDH8',\n 'hsa:223\\tALDH9A1',\n ' ALDH4',\n ' ALDH7',\n ' ALDH9',\n ' E3',\n ' TMABA-DH',\n ' TMABADH',\n ' TMABALDH',\n 'hsa:224\\tALDH3A2',\n ' ALDH10',\n ' FALDH',\n ' SLS',\n 'hsa:226\\tALDOA',\n ' ALDA',\n ' GSD12',\n ' HEL-S-87p',\n 'hsa:229\\tALDOB',\n ' ALDB',\n ' ALDO2',\n 'hsa:230\\tALDOC',\n ' ALDC',\n 'hsa:2538\\tG6PC1',\n ' G6PC',\n ' G6PT',\n ' G6Pase',\n ' GSD1',\n ' GSD1a',\n 'hsa:2597\\tGAPDH',\n ' G3PD',\n ' GAPD',\n ' HEL-S-162eP',\n 'hsa:26330\\tGAPDHS',\n ' GAPD2',\n ' GAPDH-2',\n ' GAPDS',\n ' HEL-S-278',\n ' HSD-35',\n 'hsa:2645\\tGCK',\n ' FGQTL3',\n ' GK',\n ' GLK',\n ' HHF3',\n ' HK4',\n ' HKIV',\n ' HXKP',\n ' LGLK',\n ' MODY2',\n ' PNDM1',\n 'hsa:2821\\tGPI',\n ' AMF',\n ' GNPI',\n ' NLK',\n ' PGI',\n ' PHI',\n ' SA-36',\n ' SA36',\n 'hsa:3098\\tHK1',\n ' HK',\n ' HK1-ta',\n ' HK1-tb',\n ' HK1-tc',\n ' HKD',\n ' HKI',\n ' HMSNR',\n ' HXK1',\n ' NEDVIBA',\n ' NMSR',\n ' RP79',\n ' hexokinase',\n 'hsa:3099\\tHK2',\n ' HKII',\n ' HXK2',\n 'hsa:3101\\tHK3',\n ' HKIII',\n ' HXK3',\n 'hsa:387712\\tENO4',\n ' C10orf134',\n ' ENOS',\n 'hsa:3939\\tLDHA',\n ' GSD11',\n ' HEL-S-133P',\n ' LDHM',\n ' PIG19',\n 'hsa:3945\\tLDHB',\n ' HEL-S-281',\n ' LDH-B',\n ' LDH-H',\n ' LDHBD',\n ' TRG-5',\n 'hsa:3948\\tLDHC',\n ' CT32',\n ' LDH3',\n ' LDHX',\n 'hsa:441531\\tPGAM4',\n ' PGAM-B',\n ' PGAM1',\n ' PGAM3',\n ' dJ1000K24.1',\n 'hsa:501\\tALDH7A1',\n ' ATQ1',\n ' EPD',\n ' EPEO4',\n ' PDE',\n 'hsa:5105\\tPCK1',\n ' PCKDC',\n ' PEPCK-C',\n ' PEPCK1',\n ' PEPCKC',\n 'hsa:5106\\tPCK2',\n ' PEPCK',\n ' PEPCK-M',\n ' PEPCK2',\n ' mtPCK2',\n 'hsa:5160\\tPDHA1',\n ' E1alpha',\n ' PDHA',\n ' PDHAD',\n ' PDHCE1A',\n ' PHE1A',\n 'hsa:5161\\tPDHA2',\n ' PDHAL',\n ' SPGF70',\n 'hsa:5162\\tPDHB',\n ' E1beta',\n ' PDHBD',\n ' PDHE1-B',\n ' PDHE1B',\n ' PHE1B',\n 'hsa:5211\\tPFKL',\n ' ATP-PFK',\n ' PFK-B',\n ' PFK-L',\n 'hsa:5213\\tPFKM',\n ' ATP-PFK',\n ' GSD7',\n ' PFK-1',\n ' PFK-A',\n ' PFK1',\n ' PFKA',\n ' PFKX',\n ' PPP1R122',\n 'hsa:5214\\tPFKP',\n ' ATP-PFK',\n ' PFK-C',\n ' PFK-P',\n ' PFKF',\n 'hsa:5223\\tPGAM1',\n ' HEL-S-35',\n ' PGAM-B',\n ' PGAMA',\n 'hsa:5224\\tPGAM2',\n ' GSD10',\n ' PGAM-M',\n ' PGAMM',\n 'hsa:5230\\tPGK1',\n ' HEL-S-68p',\n ' MIG10',\n ' PGKA',\n 'hsa:5232\\tPGK2',\n ' HEL-S-272',\n ' PGKB',\n ' PGKPS',\n ' dJ417L20.2',\n 'hsa:5236\\tPGM1',\n ' CDG1T',\n ' GSD14',\n 'hsa:5313\\tPKLR',\n ' PK1',\n ' PKL',\n ' PKRL',\n ' RPK',\n 'hsa:5315\\tPKM',\n ' CTHBP',\n ' HEL-S-30',\n ' OIP3',\n ' PK3',\n ' PKM2',\n ' TCB',\n ' THBP1',\n ' p58',\n 'hsa:55276\\tPGM2',\n ' MSTP006',\n 'hsa:55902\\tACSS2',\n ' ACAS2',\n ' ACECS',\n ' ACS',\n ' ACSA',\n ' AceCS1',\n ' dJ1161H23.1',\n 'hsa:57818\\tG6PC2',\n ' IGRP',\n 'hsa:669\\tBPGM',\n ' DPGM',\n ' ECYT8',\n 'hsa:7167\\tTPI1',\n ' HEL-S-49',\n ' TIM',\n ' TPI',\n ' TPID',\n 'hsa:80201\\tHKDC1',\n ' RP92',\n 'hsa:83440\\tADPGK',\n ' 2610017G09Rik',\n ' ADP-GK',\n 'hsa:84532\\tACSS1',\n ' ACAS2L',\n ' ACECS1',\n ' AceCS2L',\n 'hsa:8789\\tFBP2',\n ' CORLK',\n 'hsa:92483\\tLDHAL6B',\n ' LDH6B',\n ' LDHAL6',\n ' LDHL',\n 'hsa:92579\\tG6PC3',\n ' SCN4',\n ' UGRP',\n 'hsa:9562\\tMINPP1',\n ' HIPER1',\n ' MINPP2',\n ' MIPP',\n ' PCH16']"
     },
     "execution_count": 5,
     "metadata": {},
     "output_type": "execute_result"
    }
   ],
   "source": [
    "def to_df(result):\n",
    "    return pd.read_table(io.StringIO(result), header=None)\n",
    "\n",
    "gene_names = []\n",
    "for id in gene_ids:\n",
    "    result = REST.kegg_list(id).read()\n",
    "    gene_names.extend(result.split(';')[0].split(','))\n",
    "\n",
    "gene_names"
   ],
   "metadata": {
    "collapsed": false,
    "ExecuteTime": {
     "end_time": "2024-11-27T00:06:27.825663Z",
     "start_time": "2024-11-27T00:05:18.701241Z"
    }
   },
   "id": "f0e3434d348d58e8"
  },
  {
   "cell_type": "code",
   "execution_count": 37,
   "outputs": [
    {
     "name": "stdout",
     "output_type": "stream",
     "text": [
      "ENTRY       10327             CDS       T01001\n",
      "SYMBOL      AKR1A1, ALDR1, ALR, ARM, DD3, HEL-S-6\n",
      "NAME        (RefSeq) aldo-keto reductase family 1 member A1\n",
      "ORTHOLOGY   K00002  alcohol dehydrogenase (NADP+) [EC:1.1.1.2]\n",
      "ORGANISM    hsa  Homo sapiens (human)\n",
      "PATHWAY     hsa00010  Glycolysis / Gluconeogenesis\n",
      "            hsa00040  Pentose and glucuronate interconversions\n",
      "            hsa00053  Ascorbate and aldarate metabolism\n",
      "            hsa00561  Glycerolipid metabolism\n",
      "            hsa00620  Pyruvate metabolism\n",
      "            hsa01100  Metabolic pathways\n",
      "            hsa01240  Biosynthesis of cofactors\n",
      "            hsa05208  Chemical carcinogenesis - reactive oxygen species\n",
      "MODULE      hsa_M00014  Glucuronate pathway (uronate pathway)\n",
      "NETWORK     nt06226  KEAP1-NRF2 signaling (cancer)\n",
      "            nt06251  CYP-mediated ROS formation (cancer)\n",
      "  ELEMENT   N01401  Benzo[a]pyrenre to CYP-mediated metabolism\n",
      "            N01413  Metals to KEAP1-NRF2 signalig pathway\n",
      "BRITE       KEGG Orthology (KO) [BR:hsa00001]\n",
      "             09100 Metabolism\n",
      "              09101 Carbohydrate metabolism\n",
      "               00010 Glycolysis / Gluconeogenesis\n",
      "                10327 (AKR1A1)\n",
      "               00040 Pentose and glucuronate interconversions\n",
      "                10327 (AKR1A1)\n",
      "               00053 Ascorbate and aldarate metabolism\n",
      "                10327 (AKR1A1)\n",
      "               00620 Pyruvate metabolism\n",
      "                10327 (AKR1A1)\n",
      "              09103 Lipid metabolism\n",
      "               00561 Glycerolipid metabolism\n",
      "                10327 (AKR1A1)\n",
      "             09160 Human Diseases\n",
      "              09161 Cancer: overview\n",
      "               05208 Chemical carcinogenesis - reactive oxygen species\n",
      "                10327 (AKR1A1)\n",
      "             09180 Brite Hierarchies\n",
      "              09183 Protein families: signaling and cellular processes\n",
      "               04147 Exosome [BR:hsa04147]\n",
      "                10327 (AKR1A1)\n",
      "            Enzymes [BR:hsa01000]\n",
      "             1. Oxidoreductases\n",
      "              1.1  Acting on the CH-OH group of donors\n",
      "               1.1.1  With NAD+ or NADP+ as acceptor\n",
      "                1.1.1.2  alcohol dehydrogenase (NADP+)\n",
      "                 10327 (AKR1A1)\n",
      "            Exosome [BR:hsa04147]\n",
      "             Exosomal proteins\n",
      "              Exosomal proteins of other body fluids (saliva and urine)\n",
      "               10327 (AKR1A1)\n",
      "POSITION    1:45550826..45570049\n",
      "MOTIF       Pfam: Aldo_ket_red\n",
      "DBLINKS     NCBI-GeneID: 10327\n",
      "            NCBI-ProteinID: NP_001189342\n",
      "            OMIM: 103830\n",
      "            HGNC: 380\n",
      "            Ensembl: ENSG00000117448\n",
      "            UniProt: P14550 V9HWI0\n",
      "STRUCTURE   PDB\n",
      "AASEQ       325\n",
      "            MAASCVLLHTGQKMPLIGLGTWKSEPGQVKAAVKYALSVGYRHIDCAAIYGNEPEIGEAL\n",
      "            KEDVGPGKAVPREELFVTSKLWNTKHHPEDVEPALRKTLADLQLEYLDLYLMHWPYAFER\n",
      "            GDNPFPKNADGTICYDSTHYKETWKALEALVAKGLVQALGLSNFNSRQIDDILSVASVRP\n",
      "            AVLQVECHPYLAQNELIAHCQARGLEVTAYSPLGSSDRAWRDPDEPVLLEEPVVLALAEK\n",
      "            YGRSPAQILLRWQVQRKVICIPKSITPSRILQNIKVFDFTFSPEEMKQLNALNKNWRYIV\n",
      "            PMLTVDGKRVPRDAGHPLYPFNDPY\n",
      "NTSEQ       978\n",
      "            atggcggcttcctgtgttctactgcacactgggcagaagatgcctctgattggtctgggt\n",
      "            acctggaagagtgagcctggtcaggtaaaagcagctgttaagtatgcccttagcgtaggc\n",
      "            taccgccacattgattgtgctgctatctacggcaatgagcctgagattggggaggccctg\n",
      "            aaggaggacgtgggaccaggcaaggcggtgcctcgggaggagctgtttgtgacatccaag\n",
      "            ctgtggaacaccaagcaccaccccgaggatgtggagcctgccctccggaagactctggct\n",
      "            gacctccagctggagtatctggacctgtacctgatgcactggccttatgcctttgagcgg\n",
      "            ggagacaaccccttccccaagaatgctgatgggactatatgctacgactccacccactac\n",
      "            aaggagacttggaaggctctggaggcactggtggctaaggggctggtgcaggcgctgggc\n",
      "            ctgtccaacttcaacagtcggcagattgatgacatactcagtgtggcctccgtgcgtcca\n",
      "            gctgtcttgcaggtggaatgccacccatacttggctcaaaatgagctaattgcccactgc\n",
      "            caagcacgtggcctggaggtaactgcttatagccctttgggctcctctgatcgtgcatgg\n",
      "            cgtgatcctgatgagcctgtcctgctggaggaaccagtagtcctggcattggctgaaaag\n",
      "            tatggccgatctccagctcagatcttgctcaggtggcaggtccagcggaaagtgatctgc\n",
      "            atccccaaaagtatcactccttctcgaatccttcagaacatcaaggtgtttgacttcacc\n",
      "            tttagcccagaagagatgaagcagctaaatgccctgaacaaaaattggagatatattgtg\n",
      "            cctatgcttacggtggatgggaagagagtcccaagggatgcagggcatcctctgtacccc\n",
      "            tttaatgacccgtactga\n",
      "///\n"
     ]
    }
   ],
   "source": [
    "\n",
    "result = REST.kegg_get(\"hsa:10327\").read()\n",
    "print(result)\n"
   ],
   "metadata": {
    "collapsed": false,
    "ExecuteTime": {
     "end_time": "2024-11-26T23:57:59.976006Z",
     "start_time": "2024-11-26T23:57:59.356230Z"
    }
   },
   "id": "c415ca1017612167"
  },
  {
   "cell_type": "code",
   "execution_count": null,
   "outputs": [],
   "source": [],
   "metadata": {
    "collapsed": false
   },
   "id": "9e35eb28822e0c73"
  }
 ],
 "metadata": {
  "kernelspec": {
   "display_name": "Python 3",
   "language": "python",
   "name": "python3"
  },
  "language_info": {
   "codemirror_mode": {
    "name": "ipython",
    "version": 2
   },
   "file_extension": ".py",
   "mimetype": "text/x-python",
   "name": "python",
   "nbconvert_exporter": "python",
   "pygments_lexer": "ipython2",
   "version": "2.7.6"
  }
 },
 "nbformat": 4,
 "nbformat_minor": 5
}
