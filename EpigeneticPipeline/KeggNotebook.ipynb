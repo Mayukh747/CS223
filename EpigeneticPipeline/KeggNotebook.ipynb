{
 "cells": [
  {
   "cell_type": "code",
   "execution_count": 5,
   "id": "initial_id",
   "metadata": {
    "collapsed": true,
    "ExecuteTime": {
     "end_time": "2024-11-13T00:29:37.300928Z",
     "start_time": "2024-11-13T00:29:37.298781Z"
    }
   },
   "outputs": [],
   "source": [
    "# Show plots as part of the notebook\n",
    "%matplotlib inline\n",
    "\n",
    "# Show images inline\n",
    "from IPython.display import Image\n",
    "\n",
    "# Standard library packages\n",
    "import io\n",
    "import os\n",
    "\n",
    "# Import Biopython modules to interact with KEGG\n",
    "from Bio import SeqIO\n",
    "from Bio.KEGG import REST\n",
    "from Bio.KEGG.KGML import KGML_parser\n",
    "from Bio.Graphics.KGML_vis import KGMLCanvas\n",
    "\n",
    "# Import Pandas, so we can use dataframes\n",
    "import pandas as pd"
   ]
  },
  {
   "cell_type": "code",
   "execution_count": 2,
   "outputs": [
    {
     "name": "stdout",
     "output_type": "stream",
     "text": [
      "Collecting reportlab\r\n",
      "  Obtaining dependency information for reportlab from https://files.pythonhosted.org/packages/73/12/6444906db1bc65d3a8118afb089d53c7eeca0726164f51eb3599de1d0665/reportlab-4.2.5-py3-none-any.whl.metadata\r\n",
      "  Downloading reportlab-4.2.5-py3-none-any.whl.metadata (1.5 kB)\r\n",
      "Requirement already satisfied: pillow>=9.0.0 in /Users/mayukh/PycharmProjects/CS223/venv/lib/python3.9/site-packages (from reportlab) (10.4.0)\r\n",
      "Collecting chardet (from reportlab)\r\n",
      "  Obtaining dependency information for chardet from https://files.pythonhosted.org/packages/38/6f/f5fbc992a329ee4e0f288c1fe0e2ad9485ed064cac731ed2fe47dcc38cbf/chardet-5.2.0-py3-none-any.whl.metadata\r\n",
      "  Downloading chardet-5.2.0-py3-none-any.whl.metadata (3.4 kB)\r\n",
      "Downloading reportlab-4.2.5-py3-none-any.whl (1.9 MB)\r\n",
      "\u001B[2K   \u001B[90m━━━━━━━━━━━━━━━━━━━━━━━━━━━━━━━━━━━━━━━━\u001B[0m \u001B[32m1.9/1.9 MB\u001B[0m \u001B[31m9.8 MB/s\u001B[0m eta \u001B[36m0:00:00\u001B[0m:00:01\u001B[0m00:01\u001B[0m\r\n",
      "\u001B[?25hDownloading chardet-5.2.0-py3-none-any.whl (199 kB)\r\n",
      "\u001B[2K   \u001B[90m━━━━━━━━━━━━━━━━━━━━━━━━━━━━━━━━━━━━━━━━\u001B[0m \u001B[32m199.4/199.4 kB\u001B[0m \u001B[31m5.0 MB/s\u001B[0m eta \u001B[36m0:00:00\u001B[0ma \u001B[36m0:00:01\u001B[0m\r\n",
      "\u001B[?25hInstalling collected packages: chardet, reportlab\r\n",
      "Successfully installed chardet-5.2.0 reportlab-4.2.5\r\n",
      "\r\n",
      "\u001B[1m[\u001B[0m\u001B[34;49mnotice\u001B[0m\u001B[1;39;49m]\u001B[0m\u001B[39;49m A new release of pip is available: \u001B[0m\u001B[31;49m23.2.1\u001B[0m\u001B[39;49m -> \u001B[0m\u001B[32;49m24.3.1\u001B[0m\r\n",
      "\u001B[1m[\u001B[0m\u001B[34;49mnotice\u001B[0m\u001B[1;39;49m]\u001B[0m\u001B[39;49m To update, run: \u001B[0m\u001B[32;49mpip install --upgrade pip\u001B[0m\r\n"
     ]
    }
   ],
   "source": [
    "!pip install reportlab\n"
   ],
   "metadata": {
    "collapsed": false,
    "ExecuteTime": {
     "end_time": "2024-11-13T00:26:51.374685Z",
     "start_time": "2024-11-13T00:26:49.366122Z"
    }
   },
   "id": "b3f5cc5f20a870ac"
  },
  {
   "cell_type": "code",
   "execution_count": 6,
   "outputs": [
    {
     "name": "stdout",
     "output_type": "stream",
     "text": [
      "kegg             Kyoto Encyclopedia of Genes and Genomes\n",
      "kegg             Release 112.0+/11-12, Nov 24\n",
      "                 Kanehisa Laboratories\n",
      "                 pathway   1,266,523 entries\n",
      "                 brite       405,791 entries\n",
      "                 module          571 entries\n",
      "                 orthology    27,241 entries\n",
      "                 genome       25,135 entries\n",
      "                 genes     56,809,837 entries\n",
      "                 compound     19,409 entries\n",
      "                 glycan       11,232 entries\n",
      "                 reaction     12,157 entries\n",
      "                 rclass        3,202 entries\n",
      "                 enzyme        8,201 entries\n",
      "                 network       1,580 entries\n",
      "                 variant       1,521 entries\n",
      "                 disease       2,826 entries\n",
      "                 drug         12,531 entries\n",
      "                 dgroup        2,487 entries\n"
     ]
    }
   ],
   "source": [
    "# Perform the query\n",
    "result = REST.kegg_info(\"kegg\").read()\n",
    "\n",
    "# Print the result\n",
    "print(result)\n",
    "\n",
    "# Convert result to dataframe\n",
    "# NOTE: kegg_info() requests do not produce a suitable data format for dataframe representation\n",
    "#to_df(result)"
   ],
   "metadata": {
    "collapsed": false,
    "ExecuteTime": {
     "end_time": "2024-11-13T00:30:07.736970Z",
     "start_time": "2024-11-13T00:30:06.748605Z"
    }
   },
   "id": "bbd08330636cc33a"
  },
  {
   "cell_type": "code",
   "execution_count": 7,
   "outputs": [
    {
     "name": "stderr",
     "output_type": "stream",
     "text": [
      "/Users/mayukh/PycharmProjects/CS223/venv/lib/python3.9/site-packages/urllib3/__init__.py:35: NotOpenSSLWarning: urllib3 v2 only supports OpenSSL 1.1.1+, currently the 'ssl' module is compiled with 'LibreSSL 2.8.3'. See: https://github.com/urllib3/urllib3/issues/3020\n",
      "  warnings.warn(\n"
     ]
    }
   ],
   "source": [
    "import requests\n",
    "import re\n",
    "\n",
    "def retrieve_genes_for_pathway(pathway: str) -> None:\n",
    "    resp = requests.get(\"https://rest.kegg.jp/link/genes/\" + pathway)\n",
    "    split_text = re.split(r'[\\t\\n]', resp.text) #why is my list of odd length?\n",
    "    genes = []\n",
    "    for idx in range(1, len(split_text), 2):\n",
    "        genes.append(split_text[idx])\n",
    "    return genes\n",
    "    "
   ],
   "metadata": {
    "collapsed": false,
    "ExecuteTime": {
     "end_time": "2024-11-13T01:06:03.693825Z",
     "start_time": "2024-11-13T01:06:03.620943Z"
    }
   },
   "id": "3ecd289d0f618e61"
  },
  {
   "cell_type": "code",
   "execution_count": 8,
   "outputs": [
    {
     "data": {
      "text/plain": "['hsa:5053',\n 'ptr:741097',\n 'pps:100982303',\n 'ggo:101125405',\n 'pon:100171844',\n 'ppyg:129010939',\n 'nle:100596095',\n 'hmh:116478033',\n 'ssyn:129460063',\n 'mcc:698696',\n 'mcf:102130988',\n 'mthb:126931769',\n 'mni:105493809',\n 'csab:103238962',\n 'caty:105573301',\n 'panu:101011469',\n 'tge:112635151',\n 'mleu:105530904',\n 'rro:104657462',\n 'rbb:108543127',\n 'tfn:117089527',\n 'pteh:111524073',\n 'cang:105506785',\n 'cjc:100395351',\n 'sbq:101037263',\n 'cimi:108312344',\n 'cimi:108294863',\n 'anan:105728704',\n 'csyr:103264538',\n 'mmur:105875570',\n 'lcat:123639372',\n 'pcoq:105815128',\n 'oga:100950776',\n 'mmu:18478',\n 'mcal:110303220',\n 'mpah:110326639',\n 'rno:24616',\n 'mcoc:116076267',\n 'anu:117696539',\n 'mun:110566216',\n 'cge:100774376',\n 'maua:101822550',\n 'prob:127237829',\n 'pleu:114700618',\n 'morg:121460508',\n 'mfot:126503746',\n 'aamp:119803727',\n 'ngi:103733720',\n 'hgl:101705870',\n 'cpoc:100719535',\n 'ccan:109697465',\n 'dord:105989305',\n 'dsp:122119124',\n 'plop:125359362',\n 'ncar:124982228',\n 'mmma:107139961',\n 'ocu:100354678',\n 'opi:101525762',\n 'tup:102491503',\n 'gvr:103606889',\n 'cfa:475446',\n 'clud:112654473',\n 'vvp:112930718',\n 'vlg:121481149',\n 'npo:129516937',\n 'aml:100473514',\n 'umr:103676494',\n 'uah:113256075',\n 'uar:123780944',\n 'elk:111142182',\n 'llv:125107396',\n 'mpuf:101682831',\n 'mnp:132019315',\n 'mlk:131839337',\n 'nvs:122891243',\n 'oro:101362687',\n 'eju:114222975',\n 'zca:113922016',\n 'mlx:117998811',\n 'nsu:110578056',\n 'lww:102749217',\n 'fca:101081741',\n 'pyu:121040520',\n 'pcoo:112863474',\n 'pbg:122472606',\n 'pviv:125170440',\n 'lruf:124502241',\n 'ptg:102972479',\n 'ppad:109265422',\n 'puc:125917322',\n 'puc:125918207',\n 'aju:106971908',\n 'hhv:120245428',\n 'bta:510583',\n 'bom:102273628',\n 'biu:109559451',\n 'bbub:102394675',\n 'bbis:104998317',\n 'chx:102178605',\n 'oas:101110405',\n 'btax:128048573',\n 'csum:138077702',\n 'oda:120858658',\n 'ccad:122423811',\n 'mree:136159181',\n 'mbez:129537058',\n 'ssc:100521900',\n 'cfr:102516611',\n 'cbai:105081292',\n 'cdk:105097469',\n 'vpc:102526959',\n 'bacu:103014510',\n 'bmus:118902527',\n 'lve:103079765',\n 'oor:101269705',\n 'dle:111187814',\n 'pcad:102991397',\n 'psiu:116760617',\n 'nasi:112391047',\n 'ecb:100053361',\n 'epz:103549362',\n 'eai:106827269',\n 'myb:102251276',\n 'myd:102752111',\n 'mmyo:118651536',\n 'mlf:102423241',\n 'mdt:132227105',\n 'pkl:118729274',\n 'efus:103288952',\n 'mna:107545112',\n 'dro:112321744',\n 'shon:119002537',\n 'ajm:119035371',\n 'ajm:119060392',\n 'pdic:114513127',\n 'phas:123810692',\n 'mmf:118623962',\n 'ppam:129071376',\n 'hai:109387787',\n 'rfq:117029031',\n 'pale:102889914',\n 'pgig:120614954',\n 'pvp:105288277',\n 'ray:107501173',\n 'mjv:108398602',\n 'tod:119248200',\n 'sara:101554809',\n 'setr:126022293',\n 'lav:100665000',\n 'tmu:101340897',\n 'etf:101643789',\n 'dnm:101440012',\n 'mdo:100021400',\n 'gas:123249656',\n 'shr:100919346',\n 'afz:127537903',\n 'pcw:110205656',\n 'tvp:118851781',\n 'pbrv:138169820',\n 'oaa:100076018',\n 'gga:408024',\n 'pcoc:116226782',\n 'mgp:100543812',\n 'cjo:107316298',\n 'tpai:128073289',\n 'lmut:125700234',\n 'nmel:110392328',\n 'apla:101793775',\n 'acyg:106035810',\n 'cata:118254210',\n 'aful:116498636',\n 'tgu:100229122',\n 'lsr:110473645',\n 'scan:103819656',\n 'pmoa:120501653',\n 'otc:121332823',\n 'pruf:121363535',\n 'gfr:102032052',\n 'fab:101808898',\n 'oma:130248317',\n 'phi:102112757',\n 'pmaj:107204609',\n 'ccae:111936097',\n 'ccw:104696231',\n 'cbrc:103618022',\n 'etl:114056147',\n 'zab:102063468',\n 'zle:135460378',\n 'achl:103804379',\n 'svg:106853618',\n 'mmea:130586162',\n 'hrt:120752314',\n 'sati:136361785',\n 'fpg:101922827',\n 'fch:102060234',\n 'ccri:104167504',\n 'nnt:104404095',\n 'shab:115605548',\n 'acun:113491127',\n 'tala:104367747',\n 'achc:115352524',\n 'hald:104318128',\n 'hle:104831001',\n 'agen:126048029',\n 'gcl:127020809',\n 'csti:104553486',\n 'ldi:104353029',\n 'mnb:103773293',\n 'dpub:104307292',\n 'ppus:135181572',\n 'avit:104277175',\n 'brhi:104489201',\n 'egz:104135584',\n 'nni:104013357',\n 'pcri:104037584',\n 'pcao:104040167',\n 'padl:103924428',\n 'afor:103906466',\n 'fga:104081273',\n 'gste:104251287',\n 'clv:102092338',\n 'mui:104541463',\n 'pguu:104458716',\n 'plet:104619511',\n 'ehs:104512646',\n 'cmac:104474665',\n 'cuca:104058923',\n 'breg:104640297',\n 'oha:104338272',\n 'acar:104524640',\n 'cpea:104396023',\n 'cvf:104288592',\n 'rtd:128906641',\n 'aam:106488436',\n 'arow:112961526',\n 'npd:112946622',\n 'tgt:104575505',\n 'dne:112993898',\n 'scam:104147351',\n 'asn:102372044',\n 'amj:102563310',\n 'cpoo:109316560',\n 'ggn:109296126',\n 'pss:102454689',\n 'cmy:102941454',\n 'ccay:125634499',\n 'dcc:119859892',\n 'cpic:101940050',\n 'tst:117881438',\n 'cabi:116819874',\n 'mrv:120370070',\n 'acs:100562752',\n 'asao:132775851',\n 'pvt:110084785',\n 'sund:121931900',\n 'pbi:103048910',\n 'pmur:107289467',\n 'ctig:120305868',\n 'tsr:106544189',\n 'pgut:117655511',\n 'apri:131202439',\n 'ptex:113455294',\n 'nss:113432809',\n 'vko:123028867',\n 'pmua:114605082',\n 'praf:128422847',\n 'zvi:118091233',\n 'hcg:128327774',\n 'gja:107119993',\n 'stow:125435871',\n 'emc:129335923',\n 'xla:108713207',\n 'xla:108711027',\n 'xtr:613076',\n 'npr:108789615',\n 'rtem:120932125',\n 'bbuf:120979197',\n 'bgar:122928100',\n 'muo:115477487',\n 'gsh:117364378',\n 'dre:378962',\n 'srx:107744915',\n 'sanh:107695873',\n 'sgh:107587527',\n 'sgh:107590936',\n 'caua:113047747',\n 'caua:113075327',\n 'caua:113062815',\n 'caua:113071460',\n 'cgib:127956589',\n 'cgib:127974872',\n 'ptet:122342851',\n 'lroh:127163860',\n 'omc:131538893',\n 'pprm:120477035',\n 'rkg:130072231',\n 'mamb:125244964',\n 'cide:127511005',\n 'cery:137024433',\n 'masi:127436746',\n 'tros:130548156',\n 'tdw:130420955',\n 'manu:129432208',\n 'ipu:108279870',\n 'ifu:128623225',\n 'phyp:113532049',\n 'smeo:124401781',\n 'tfd:113651567',\n 'tvc:132859380',\n 'trn:134314814',\n 'amex:103026480',\n 'cmao:118812608',\n 'eee:113584588',\n 'char:105902611',\n 'tru:446049',\n 'tfs:130519136',\n 'tng:GSTEN00000448G001',\n 'tng:GSTEN00023798G001',\n 'lco:104926294',\n 'ncc:104945799',\n 'tben:117485069',\n 'cgob:115028354',\n 'pgeo:117439161',\n 'gacu:117552518',\n 'emac:134879370',\n 'ely:117249414',\n 'efo:125882904',\n 'plep:121961150',\n 'sluc:116060108',\n 'ecra:117938736',\n 'esp:116673355',\n 'pflv:114550257',\n 'gat:120818264',\n 'ppug:119210572',\n 'afb:129112251',\n 'clum:117726090',\n 'pswi:130200515',\n 'cana:137791435',\n 'cve:137877355',\n 'msam:119917963',\n 'schu:122871198',\n 'cud:121505192',\n 'alat:119032190',\n 'astr:137589167',\n 'mze:101478105',\n 'onl:100534573',\n 'oau:116325429',\n 'ola:101163702',\n 'oml:112159077',\n 'csai:133423968',\n 'xma:102221816',\n 'xco:114160912',\n 'xhe:116737019',\n 'pret:103459395',\n 'pfor:103140263',\n 'plai:106960765',\n 'pmei:106925438',\n 'gaf:122826241',\n 'pprl:129351533',\n 'cvg:107085236',\n 'ctul:119781052',\n 'gmu:124883266',\n 'nfu:107386776',\n 'kmr:108233301',\n 'alim:106530260',\n 'nwh:119428117',\n 'aoce:111586654',\n 'eja:138192465',\n 'mcep:125000312',\n 'csem:103382571',\n 'pov:109640772',\n 'ssen:122766056',\n 'hhip:117757139',\n 'hsp:118102007',\n 'pplt:128429207',\n 'smau:118293231',\n 'lcf:108897566',\n 'sdu:111224520',\n 'slal:111664689',\n 'xgl:120799018',\n 'hcq:109530102',\n 'sscv:125992297',\n 'sbia:133493337',\n 'pee:133397166',\n 'ptao:133471848',\n 'bpec:110161446',\n 'malb:109967837',\n 'bspl:114861699',\n 'sjo:128353459',\n 'sasa:106609449',\n 'sasa:106576281',\n 'stru:115180069',\n 'stru:115198943',\n 'otw:112214201',\n 'otw:112217195',\n 'omy:110490427',\n 'omy:110500049',\n 'ogo:123994486',\n 'ogo:124014505',\n 'one:115107068',\n 'one:115133030',\n 'oki:109896666',\n 'oki:109896653',\n 'oke:118366333',\n 'oke:118392477',\n 'salp:111951387',\n 'salp:111982823',\n 'snh:120031947',\n 'snh:120049946',\n 'cclu:121549018',\n 'cclu:121579003',\n 'els:105030162',\n 'sfm:108931648',\n 'pki:111846559',\n 'aang:118232062',\n 'aang:118219078',\n 'loc:102689532',\n 'pspa:121317821',\n 'pspa:121319665',\n 'arut:117415782',\n 'arut:117419529',\n 'psex:120534264',\n 'lcm:102350205',\n 'cmk:103179867',\n 'rtp:109914148',\n 'cpla:122559346',\n 'hoc:132824605',\n 'leri:129706326',\n 'pmrn:116940067',\n 'bfo:118406655',\n 'bbel:109476577',\n 'cin:100181935',\n 'sclv:120330756',\n 'spu:581035',\n 'spu:584386',\n 'spu:115925164',\n 'lpic:129282732',\n 'lpic:129283075',\n 'lpic:129283240',\n 'lpic:129283287',\n 'aplc:110983852',\n 'aplc:110985606',\n 'aplc:110986697',\n 'aplc:110985933',\n 'arun:117291205',\n 'arun:117291677',\n 'arun:117291818',\n 'ajc:117105081',\n 'ajc:117105082',\n 'sko:100313702',\n 'dme:Dmel_CG7399',\n 'der:6543832',\n 'dse:6604776',\n 'dsi:Dsimw501_GD14035',\n 'dya:Dyak_GE21640',\n 'dan:6493197',\n 'dsr:110189122',\n 'dpo:4812210',\n 'dpe:113566326',\n 'dpe:6599862',\n 'dmn:108153240',\n 'dwi:6643178',\n 'dgr:6556478',\n 'dmo:Dmoj_GI13137',\n 'daz:108613106',\n 'dnv:108658026',\n 'dhe:111603059',\n 'dvi:6624002',\n 'ccat:101453071',\n 'bod:106621713',\n 'bdr:105229033',\n 'rze:108362070',\n 'rze:108374352',\n 'aoq:129241320',\n 'tda:119690170',\n 'mde:101888256',\n 'scac:106094857',\n 'lcq:111677619',\n 'lsq:119609693',\n 'gfs:119631853',\n 'ecoe:129947037',\n 'clon:129611569',\n 'his:119649507',\n 'aga:1276381',\n 'acoz:120949426',\n 'aara:120895891',\n 'amer:121593835',\n 'aste:118513118',\n 'afun:125769283',\n 'amou:128304256',\n 'aali:118466458',\n 'aag:23687449',\n 'aag:110681048',\n 'aalb:109409768',\n 'aalb:109432290',\n 'asua:134217621',\n 'cqu:CpipJ_CPIJ002148',\n 'cqu:CpipJ_CPIJ002149',\n 'cpii:120423027',\n 'cns:116338417',\n 'bcoo:119073536',\n 'lll:129793032',\n 'ppap:129801911',\n 'ame:408622',\n 'acer:107994899',\n 'alab:122715246',\n 'adr:102674071',\n 'aflr:100869210',\n 'bim:100749265',\n 'bbif:117207864',\n 'bvk:117238314',\n 'bvan:117158805',\n 'bhun:126865554',\n 'bter:100650566',\n 'baff:126920488',\n 'bpyo:122571045',\n 'bpas:132906388',\n 'fvi:122533148',\n 'ccal:108622470',\n 'obb:114880992',\n 'olg:117605015',\n 'mgen:117221101',\n 'nmea:116428925',\n 'cgig:122400080',\n 'soc:105208034',\n 'mpha:105834905',\n 'aec:105149428',\n 'acep:105627268',\n 'pbar:105424129',\n 'vem:105567274',\n 'hst:105190713',\n 'dqu:106742584',\n 'cfo:105257274',\n 'fex:115237690',\n 'lhu:105676062',\n 'pgc:109851997',\n 'obo:105281793',\n 'pcf:106793909',\n 'pfuc:122526443',\n 'vps:122626843',\n 'vcrb:124422313',\n 'vve:124957347',\n 'nvi:100115984',\n 'csol:105367470',\n 'tpre:106648612',\n 'lht:122502118',\n 'lbd:127280715',\n 'mdl:103569754',\n 'cglo:123259184',\n 'fas:105263863',\n 'dam:107043596',\n 'agif:122861095',\n 'cins:118064728',\n 'vcan:122411861',\n 'ccin:107265544',\n 'dsm:124404608',\n 'npt:124211090',\n 'nfb:124176863',\n 'nlo:107228218',\n 'nvg:124299122',\n 'aroa:105685787',\n 'tca:655392',\n 'dpa:109539248',\n 'soy:115891108',\n 'agrg:126736293',\n 'atd:109596816',\n 'cset:123318083',\n 'agb:108910083',\n 'ldc:111507912',\n 'ldc:111507914',\n 'dvv:126891739',\n 'nvl:108565046',\n 'apln:108737165',\n 'ppyr:116174218',\n 'otu:111427156',\n 'bmor:101742825',\n 'bman:114240431',\n 'msex:115455538',\n 'dpl:KGM_203007',\n 'bany:112050441',\n 'mju:123880007',\n 'niq:126780615',\n 'vcd:124543184',\n 'mcix:123668470',\n 'pmac:106715940',\n 'ppot:106103393',\n 'pxu:106113839',\n 'bphi:137921719',\n 'prap:111003375',\n 'pbx:123718886',\n 'pnap:125062623',\n 'zce:119835844',\n 'ccrc:123705275',\n 'lsin:126978288',\n 'aage:121728878',\n 'aage:121738518',\n 'haw:110379372',\n 'hze:124644975',\n 'tnl:113504181',\n 'sliu:111360757',\n 'ofu:114350192',\n 'atra:106130608',\n 'gmw:113513257',\n 'pxy:105388781',\n 'pgw:126380462',\n 'lgly:125240606',\n 'cstb:134754333',\n 'cfel:113368487',\n 'cfel:113380850',\n 'ccrn:123296053',\n 'ccrn:123296847',\n 'api:100166971',\n 'dnx:107166331',\n 'ags:114127118',\n 'rmd:113555257',\n 'acoo:126841020',\n 'dvt:126906397',\n 'btab:109037480',\n 'dci:103524632',\n 'dci:103524631',\n 'clec:106668455',\n 'hhal:106689313',\n 'nlu:120352084',\n 'nlu:120356166',\n 'hvi:124362717',\n 'mqu:128994074',\n 'mqu:129004859',\n 'phu:Phum_PHUM426310',\n 'foc:113203845',\n 'tpal:117653927',\n 'zne:110827451',\n 'csec:111867894',\n 'sgre:126269845',\n 'bror:134534259',\n 'bror:134534262',\n 'iel:124158940',\n 'fcd:110853633',\n 'dpx:DAPPUDRAFT_310424',\n 'dpx:DAPPUDRAFT_220530',\n 'dmk:116925104',\n 'dmk:116925105',\n 'dpz:124335432',\n 'afra:136040358',\n 'pvm:113809419',\n 'pja:122260398',\n 'pja:122252520',\n 'pchn:125027909',\n 'pmoo:119573220',\n 'hame:121868518',\n 'pcla:123752024',\n 'cqd:128704530',\n 'ptru:123517336',\n 'esn:127009237',\n 'mnz:135195781',\n 'mrj:136842900',\n 'hazt:108664871',\n 'eaf:111718414',\n 'lsm:121117443',\n 'tcf:131878039',\n 'ppoi:119106973',\n 'ppoi:119106983',\n 'isc:8053492',\n 'dsv:119464223',\n 'rsan:119401569',\n 'rmp:119164159',\n 'vde:111247812',\n 'vja:111261971',\n 'tut:107359903',\n 'tut:107361565',\n 'dpte:113797534',\n 'dfr:124493813',\n 'cscu:111627677',\n 'cvs:136970374',\n 'ptep:107448056',\n 'abru:129988669',\n 'udv:129233755',\n 'udv:129225497',\n 'sdm:118190837',\n 'lpol:106460249',\n 'pmeo:129585993',\n 'pmeo:129592972',\n 'cel:CELE_K08F8.4',\n 'cbr:CBG_03166',\n 'crq:GCK72_005593',\n 'nai:NECAME_04148',\n 'tsp:Tsp_08577',\n 'hro:HELRODRAFT_108615',\n 'lgi:LOTGIDRAFT_161772',\n 'lgi:LOTGIDRAFT_161773',\n 'pvul:126811957',\n 'pcan:112565793',\n 'gae:121372754',\n 'hrf:124125615',\n 'hrj:124259102',\n 'hasi:137286678',\n 'crg:105343048',\n 'crg:117690807',\n 'canu:128182878',\n 'canu:128184274',\n 'canu:128184658',\n 'canu:128169886',\n 'cvn:111105167',\n 'cvn:111105201',\n 'cvn:111103021',\n 'cvn:111103022',\n 'oed:125673201',\n 'myi:110459063',\n 'pmax:117327867',\n 'pmax:117327868',\n 'mcaf:127723970',\n 'mcaf:127723971',\n 'mmer:123552284',\n 'rphi:132760489',\n 'dpol:127850483',\n 'maea:128238366',\n 'obi:106880309',\n 'ljp:135469996',\n 'lak:106163209',\n 'ovi:T265_04677',\n 'llon:135487879',\n 'nve:5502679',\n 'epa:110232021',\n 'epa:110236901',\n 'aten:116292256',\n 'adf:107340378',\n 'amil:114963791',\n 'pdam:113668697',\n 'spis:111331374',\n 'dgt:114520920',\n 'xen:124439003',\n 'hmg:100209208',\n 'hsy:130654060',\n 'res:135682684',\n 'res:135691091',\n 'tad:TRIADDRAFT_32954',\n 'aqu:100631768',\n 'aqu:100636140',\n 'ppp:112285965',\n 'cme:CYME_CMJ066C',\n 'gsl:Gasu_36410',\n 'rie:OCT59_022935',\n 'mbr:MONBRDRAFT_31770',\n 'sre:PTSG_02154',\n 'ddi:DDB_G0278781',\n 'dpp:DICPUDRAFT_48007',\n 'dfa:DFA_06982',\n 'acan:ACA1_051550',\n 'tgo:TGME49_212740',\n 'bbes:BESB_047360',\n 'tet:TTHERM_00829460',\n 'tet:TTHERM_00997520',\n 'ptm:GSPATT00031660001',\n 'pti:PHATRDRAFT_13175',\n 'fcy:FRACYDRAFT_188526',\n 'tps:THAPSDRAFT_bd415',\n 'ngd:NGA_0605700',\n 'pif:PITG_02210',\n 'psoj:PHYSODRAFT_474156',\n 'spar:SPRG_00966',\n 'spar:SPRG_08734',\n 'lma:LMJF_28_1280',\n 'lif:LINJ_28_1390',\n 'ldo:LDBPK_281390',\n 'lmi:LMXM_28_1280',\n 'lmat:92513215',\n 'lbz:LBRM_28_1380',\n 'lpan:LPMP_281370',\n 'loi:92359805',\n 'leis:94179456',\n 'lenr:94171710',\n 'lein:94186782',\n 'phet:94289625',\n 'ngr:NAEGRDRAFT_83319',\n 'ngr:NAEGRDRAFT_83269',\n 'ngr:NAEGRDRAFT_77920',\n 'gtt:GUITHDRAFT_157502',\n 'gkn:PVT67_10460',\n 'xcc:XCC0156',\n 'xcb:XC_0165',\n 'xca:xcc-b100_0173',\n 'xcp:XCR_4381',\n 'xcv:XCV0157',\n 'xax:XACM_0158',\n 'xac:XAC0174',\n 'xci:XCAW_00569',\n 'xct:J151_00290',\n 'xcj:J158_00288',\n 'xcu:J159_00288',\n 'xcn:J169_00286',\n 'xcw:J162_00287',\n 'xcr:J163_00287',\n 'xcm:J164_00287',\n 'xcf:J172_00281',\n 'xfu:XFF4834R_chr00800',\n 'xao:XAC29_00890',\n 'xom:XOO0243',\n 'xoo:XOO0267',\n 'xop:PXO_03285',\n 'xoy:AZ54_23810',\n 'xor:XOC_0260',\n 'xoz:BE73_23045',\n 'xal:XALC_0054',\n 'xtn:FD63_00365',\n 'xfr:BER92_18745',\n 'xve:BJD12_13435',\n 'xpe:BJD13_16205',\n 'xhr:XJ27_16560',\n 'xga:BI317_23915',\n 'xph:XppCFBP6546_11060',\n 'xva:C7V42_00645',\n 'xan:AC801_00685',\n 'xar:XB05_17555',\n 'xhy:FZ025_07815',\n 'xcz:EBN15_19395',\n 'xth:G4Q83_18485',\n 'xeu:XSP_000176',\n 'xhd:LMG31886_01940',\n 'xpr:MUG10_09470',\n 'xag:HEP73_00095',\n 'xdy:NYR95_00995',\n 'xas:HEP74_00087',\n 'xha:PG878_00445',\n 'xry:QN244_00390',\n 'sml:Smlt0077',\n 'smt:Smal_0032',\n 'buj:BurJV3_0031',\n 'smz:SMD_0029',\n 'sacz:AOT14_37130',\n 'stek:AXG53_17600',\n 'srh:BAY15_0171',\n 'slm:BIZ42_09790',\n 'sten:CCR98_00145',\n 'stem:CLM74_00240',\n 'stes:MG068_00145',\n 'sinc:DAIF1_00450',\n 'spaq:STNY_R00470',\n 'steq:ICJ04_00230',\n 'sgen:RKE57_00020',\n 'sou:PDM29_07420',\n 'sarc:PDM28_00525',\n 'psu:Psesu_0042',\n 'psuw:WQ53_07765',\n 'psd:DSC_01655',\n 'pmex:H4W19_13270',\n 'pjp:LAG73_17565',\n 'pdd:MNQ95_06375',\n 'pwi:MWN52_00340',\n 'lab:LA76x_0054',\n 'laq:GLA29479_1318',\n 'lcp:LC55x_0072',\n 'lgu:LG3211_0066',\n 'lez:GLE_5254',\n 'lem:LEN_0064',\n 'lmb:C9I47_0036',\n 'lyt:DWG18_13360',\n 'lue:DCD74_10085',\n 'lyj:FKV23_00235',\n 'lsol:GOY17_00175',\n 'lsx:H8B22_07450',\n 'lhx:LYSHEL_12800',\n 'lcas:LYSCAS_12800',\n 'lcic:INQ41_00130',\n 'lavi:INQ42_00135',\n 'llz:LYB30171_02578',\n 'laux:LA521A_00350',\n 'lya:RDV84_07270',\n 'lsy:H8L67_00870',\n 'lsf:I8J32_004430',\n 'lum:CNR27_02395',\n 'lus:E5843_00535',\n 'lug:FPZ22_07355',\n 'lfx:LU699_09015',\n 'luj:BGP89_04785',\n 'thes:FHQ07_08470',\n 'theh:G7079_01100',\n 'tcn:H9L16_05335',\n 'tbv:H9L17_08500',\n 'thex:ICG51_001428',\n 'xbc:ELE36_00245',\n 'fsg:LQ771_14840',\n 'fed:LQ772_16690',\n 'rhd:R2APBS1_0035',\n 'rgl:CS053_00320',\n 'rth:LRK53_00200',\n 'dji:CH75_20500',\n 'dja:HY57_03120',\n 'dtx:ATSB10_29710',\n 'dye:EO087_11935',\n 'dcs:ISN74_20340',\n 'dtl:H8F01_10165',\n 'dta:DYST_03055',\n 'dyg:DYGSA30_08130',\n 'dko:I596_3495',\n 'lrz:BJI69_06750',\n 'lpy:FIV34_00670',\n 'lanh:KR767_06340',\n 'lfl:IM816_18350',\n 'laeg:L2Y94_00400',\n 'laeo:L2Y97_00640',\n 'laes:L2Y96_00530',\n 'xba:C7S18_20715',\n 'rbd:ALSL_0025',\n 'tamn:N4264_01690',\n 'vch:VC_A0828',\n 'vcf:IR04_03610',\n 'vcs:MS6_A0869',\n 'vce:Vch1786_II0518',\n 'vcq:EN18_02465',\n 'vcj:VCD_000497',\n 'vci:O3Y_17393',\n 'vco:VC0395_0407',\n 'vcr:VC395_A0852',\n 'vcm:VCM66_A0787',\n 'vcl:VCLMA_B0604',\n 'vcx:VAA049_2146',\n 'vcz:VAB027_358',\n 'vvu:VV2_0455',\n 'vvy:VVA1005',\n 'vvm:VVMO6_03925',\n 'vvl:VV93_v1c39510',\n 'vpa:VPA0576',\n 'vpb:VPBB_A0526',\n 'vpk:M636_02105',\n 'vpf:M634_23655',\n 'vph:VPUCM_21066',\n 'vha:VIBHAR_05421',\n 'vca:M892_24285',\n 'vag:N646_4584',\n 'vex:VEA_001480',\n 'vdb:AL552_00560',\n 'vhr:AL538_22960',\n 'vna:PN96_22475',\n 'vow:A9237_19465',\n 'vro:BSZ04_01375',\n 'vsp:VS_II1509',\n 'vej:VEJY3_21801',\n 'vfu:vfu_B00650',\n 'vni:VIBNI_B1215',\n 'van:VAA_02977',\n 'lag:N175_18040',\n 'vau:VANGNB10_cII0203',\n 'vcy:IX92_21755',\n 'vct:JV59_17840',\n 'vtu:IX91_18100',\n 'veu:IXK98_01450',\n 'vsi:MTO69_15145',\n 'vfl:AL536_01460',\n 'vmi:AL543_05885',\n 'vsc:VSVS12_03581',\n 'vsh:BSZ05_25330',\n 'vqi:CCZ37_18000',\n 'vta:B1781',\n 'vaf:D1115_20030',\n 'vnl:D3H41_25145',\n 'vcc:FAZ90_18060',\n 'vaq:FIV01_20410',\n 'vka:BTD91_17160',\n 'vnv:IF132_03105',\n 'vgi:MID13_23595',\n 'vsl:LTQ54_16885',\n 'vpl:SA104470976_03564',\n 'vjp:NP165_14380',\n 'vpg:LZI70_13835',\n 'vti:CEQ48_01630',\n 'vcra:IS519_17450',\n 'vnp:KW548_17470',\n 'vle:ISX51_22990',\n 'vsy:K08M4_43500',\n 'vmt:QYQ96_16510',\n 'vib:VspSTUT11_29820',\n 'vis:VspSTUT16_44980',\n 'vio:AB2S62_20880',\n 'ppr:PBPRB1164',\n 'pgb:H744_1c0551',\n 'pgh:FH974_21355',\n 'phot:L4174_020800',\n 'gho:AL542_01530',\n 'gkd:K6Q96_21125',\n 'saly:E8E00_14335',\n 'sks:FCN78_13635',\n 'scot:HBA18_14280',\n 'spro:N7E60_16130',\n 'pre:PCA10_16580',\n 'pfuw:KF707C_31770',\n 'poj:PtoMrB4_41850',\n 'plal:FXN65_07200',\n 'pae:PA0872',\n 'paev:N297_900',\n 'paei:N296_900',\n 'pau:PA14_52990',\n 'pap:PSPA7_4644',\n 'pag:PLES_44441',\n 'paf:PAM18_4167',\n 'pnc:NCGM2_1648',\n 'paeb:NCGM1900_1852',\n 'pdk:PADK2_21340',\n 'psg:G655_20990',\n 'prp:M062_04250',\n 'paep:PA1S_22080',\n 'paer:PA1R_gp4394',\n ...]"
     },
     "execution_count": 8,
     "metadata": {},
     "output_type": "execute_result"
    }
   ],
   "source": [
    "retrieve_genes_for_pathway(\"K00500\")"
   ],
   "metadata": {
    "collapsed": false,
    "ExecuteTime": {
     "end_time": "2024-11-13T01:06:26.641837Z",
     "start_time": "2024-11-13T01:06:24.526964Z"
    }
   },
   "id": "46f9ee613be8ddbf"
  },
  {
   "cell_type": "code",
   "execution_count": null,
   "outputs": [],
   "source": [],
   "metadata": {
    "collapsed": false
   },
   "id": "f59c8676770c5e23"
  }
 ],
 "metadata": {
  "kernelspec": {
   "display_name": "Python 3",
   "language": "python",
   "name": "python3"
  },
  "language_info": {
   "codemirror_mode": {
    "name": "ipython",
    "version": 2
   },
   "file_extension": ".py",
   "mimetype": "text/x-python",
   "name": "python",
   "nbconvert_exporter": "python",
   "pygments_lexer": "ipython2",
   "version": "2.7.6"
  }
 },
 "nbformat": 4,
 "nbformat_minor": 5
}
